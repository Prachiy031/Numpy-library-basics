{
 "cells": [
  {
   "cell_type": "markdown",
   "id": "9791afc4",
   "metadata": {},
   "source": [
    "# numpy\n",
    "its fast,also performance is greater ....also useful for dot product of arrays\n"
   ]
  },
  {
   "cell_type": "code",
   "execution_count": 4,
   "id": "31d6d184",
   "metadata": {},
   "outputs": [],
   "source": [
    "import numpy as np\n"
   ]
  },
  {
   "cell_type": "code",
   "execution_count": 13,
   "id": "88c54540",
   "metadata": {},
   "outputs": [],
   "source": [
    "arr1 = list(range(1000000))\n",
    "arr2 =list(range(1000000,2000000))\n",
    "#numpy arrays:\n",
    "arr1_np = np.array(arr1)\n",
    "arr2_np = np.array(arr2)"
   ]
  },
  {
   "cell_type": "code",
   "execution_count": 19,
   "id": "2e172fc3",
   "metadata": {},
   "outputs": [
    {
     "name": "stdout",
     "output_type": "stream",
     "text": [
      "CPU times: total: 0 ns\n",
      "Wall time: 0 ns\n"
     ]
    },
    {
     "data": {
      "text/plain": [
       "833332333333500000"
      ]
     },
     "execution_count": 19,
     "metadata": {},
     "output_type": "execute_result"
    }
   ],
   "source": [
    "%time      #computed time for multiplying two arrays using for loop\n",
    "result = 0\n",
    "for x1,x2 in zip(arr1,arr2):\n",
    "    result += x1*x2\n",
    "result"
   ]
  },
  {
   "cell_type": "code",
   "execution_count": 21,
   "id": "7469d17d",
   "metadata": {},
   "outputs": [
    {
     "name": "stdout",
     "output_type": "stream",
     "text": [
      "CPU times: total: 0 ns\n",
      "Wall time: 0 ns\n"
     ]
    },
    {
     "data": {
      "text/plain": [
       "-1942957984"
      ]
     },
     "execution_count": 21,
     "metadata": {},
     "output_type": "execute_result"
    }
   ],
   "source": [
    "%time\n",
    "np.dot(arr1_np,arr2_np)     #using numpy array"
   ]
  },
  {
   "cell_type": "markdown",
   "id": "577ff0c0",
   "metadata": {},
   "source": [
    "numpy array using list"
   ]
  },
  {
   "cell_type": "code",
   "execution_count": 5,
   "id": "112845a4",
   "metadata": {},
   "outputs": [
    {
     "name": "stdout",
     "output_type": "stream",
     "text": [
      "[ 8.  9. 90. 67. 88.]\n"
     ]
    }
   ],
   "source": [
    "a = np.array([8,9,90,67,88],dtype='f') #datatype is defined as a float it can be defined acc to data containing in array \n",
    "print(a)             #1st list we have ,it has to convert into numpy array            "
   ]
  },
  {
   "cell_type": "markdown",
   "id": "efa2848f",
   "metadata": {},
   "source": [
    "numpy array using tuple"
   ]
  },
  {
   "cell_type": "code",
   "execution_count": 6,
   "id": "48bb8c3c",
   "metadata": {},
   "outputs": [
    {
     "name": "stdout",
     "output_type": "stream",
     "text": [
      "[ 8  9 90 67 88]\n"
     ]
    }
   ],
   "source": [
    "b = np.array((8,9,90,67,88))   #can define in this way also\n",
    "print(b)              #datatype is optional"
   ]
  },
  {
   "cell_type": "code",
   "execution_count": 7,
   "id": "ebab8904",
   "metadata": {},
   "outputs": [
    {
     "data": {
      "text/plain": [
       "numpy.ndarray"
      ]
     },
     "execution_count": 7,
     "metadata": {},
     "output_type": "execute_result"
    }
   ],
   "source": [
    "type(a)"
   ]
  },
  {
   "cell_type": "code",
   "execution_count": 8,
   "id": "54178075",
   "metadata": {},
   "outputs": [
    {
     "data": {
      "text/plain": [
       "numpy.ndarray"
      ]
     },
     "execution_count": 8,
     "metadata": {},
     "output_type": "execute_result"
    }
   ],
   "source": [
    "type(b)"
   ]
  },
  {
   "cell_type": "code",
   "execution_count": 9,
   "id": "7c0eb457",
   "metadata": {},
   "outputs": [
    {
     "data": {
      "text/plain": [
       "dtype('int32')"
      ]
     },
     "execution_count": 9,
     "metadata": {},
     "output_type": "execute_result"
    }
   ],
   "source": [
    "b.dtype"
   ]
  },
  {
   "cell_type": "code",
   "execution_count": 10,
   "id": "77c61329",
   "metadata": {},
   "outputs": [
    {
     "data": {
      "text/plain": [
       "dtype('float32')"
      ]
     },
     "execution_count": 10,
     "metadata": {},
     "output_type": "execute_result"
    }
   ],
   "source": [
    "a.dtype"
   ]
  },
  {
   "cell_type": "markdown",
   "id": "94e8ce80",
   "metadata": {},
   "source": [
    "multidimentional array"
   ]
  },
  {
   "cell_type": "code",
   "execution_count": 11,
   "id": "458acbdb",
   "metadata": {},
   "outputs": [],
   "source": [
    "m = np.array([[7,9,0],[8,6,4]])"
   ]
  },
  {
   "cell_type": "code",
   "execution_count": 12,
   "id": "a82cb82b",
   "metadata": {},
   "outputs": [
    {
     "data": {
      "text/plain": [
       "2"
      ]
     },
     "execution_count": 12,
     "metadata": {},
     "output_type": "execute_result"
    }
   ],
   "source": [
    "m.ndim"
   ]
  },
  {
   "cell_type": "code",
   "execution_count": 13,
   "id": "2781447b",
   "metadata": {},
   "outputs": [
    {
     "data": {
      "text/plain": [
       "9"
      ]
     },
     "execution_count": 13,
     "metadata": {},
     "output_type": "execute_result"
    }
   ],
   "source": [
    "m[0,1]      #1st array 2nd element"
   ]
  },
  {
   "cell_type": "code",
   "execution_count": 14,
   "id": "4db54447",
   "metadata": {},
   "outputs": [],
   "source": [
    "p = np.array([[7,9,0],[8,6,4],[80,90,70]])   #each array should have same number of elem"
   ]
  },
  {
   "cell_type": "code",
   "execution_count": 15,
   "id": "b0d1acf9",
   "metadata": {},
   "outputs": [
    {
     "data": {
      "text/plain": [
       "2"
      ]
     },
     "execution_count": 15,
     "metadata": {},
     "output_type": "execute_result"
    }
   ],
   "source": [
    "p.ndim"
   ]
  },
  {
   "cell_type": "code",
   "execution_count": 16,
   "id": "3e74e74c",
   "metadata": {},
   "outputs": [
    {
     "data": {
      "text/plain": [
       "4"
      ]
     },
     "execution_count": 16,
     "metadata": {},
     "output_type": "execute_result"
    }
   ],
   "source": [
    "p[1,2]"
   ]
  },
  {
   "cell_type": "code",
   "execution_count": 17,
   "id": "4534e6f1",
   "metadata": {},
   "outputs": [],
   "source": [
    "u = np.array([[[7,8,90],[80,5,34],[35,77,12]],[[89,56,34],[-7,-45,-70],[77,55,44]]])"
   ]
  },
  {
   "cell_type": "code",
   "execution_count": 18,
   "id": "2a090963",
   "metadata": {},
   "outputs": [
    {
     "data": {
      "text/plain": [
       "5"
      ]
     },
     "execution_count": 18,
     "metadata": {},
     "output_type": "execute_result"
    }
   ],
   "source": [
    "u[0][1][1]    #3 dimentional array 1st nd array, 2nd array, 1st element"
   ]
  },
  {
   "cell_type": "code",
   "execution_count": 19,
   "id": "3cb37bde",
   "metadata": {},
   "outputs": [
    {
     "data": {
      "text/plain": [
       "44"
      ]
     },
     "execution_count": 19,
     "metadata": {},
     "output_type": "execute_result"
    }
   ],
   "source": [
    "u[1][2][2]"
   ]
  },
  {
   "cell_type": "code",
   "execution_count": 20,
   "id": "efabea1b",
   "metadata": {},
   "outputs": [
    {
     "data": {
      "text/plain": [
       "3"
      ]
     },
     "execution_count": 20,
     "metadata": {},
     "output_type": "execute_result"
    }
   ],
   "source": [
    "u.ndim"
   ]
  },
  {
   "cell_type": "code",
   "execution_count": 21,
   "id": "b9246d56",
   "metadata": {},
   "outputs": [
    {
     "data": {
      "text/plain": [
       "(2, 3, 3)"
      ]
     },
     "execution_count": 21,
     "metadata": {},
     "output_type": "execute_result"
    }
   ],
   "source": [
    "u.shape      #2 2d array 3 lists 3 elements"
   ]
  },
  {
   "cell_type": "code",
   "execution_count": 22,
   "id": "1e296d31",
   "metadata": {},
   "outputs": [
    {
     "data": {
      "text/plain": [
       "numpy.ndarray"
      ]
     },
     "execution_count": 22,
     "metadata": {},
     "output_type": "execute_result"
    }
   ],
   "source": [
    "type(u)"
   ]
  },
  {
   "cell_type": "code",
   "execution_count": 23,
   "id": "6437a891",
   "metadata": {},
   "outputs": [
    {
     "data": {
      "text/plain": [
       "2"
      ]
     },
     "execution_count": 23,
     "metadata": {},
     "output_type": "execute_result"
    }
   ],
   "source": [
    "u.shape[0]       #2 2d arrays"
   ]
  },
  {
   "cell_type": "code",
   "execution_count": 24,
   "id": "d98d7470",
   "metadata": {},
   "outputs": [
    {
     "data": {
      "text/plain": [
       "18"
      ]
     },
     "execution_count": 24,
     "metadata": {},
     "output_type": "execute_result"
    }
   ],
   "source": [
    "u.size #total no. of eleme"
   ]
  },
  {
   "cell_type": "code",
   "execution_count": 25,
   "id": "0214b581",
   "metadata": {},
   "outputs": [
    {
     "data": {
      "text/plain": [
       "72"
      ]
     },
     "execution_count": 25,
     "metadata": {},
     "output_type": "execute_result"
    }
   ],
   "source": [
    "u.nbytes #no of bytes taking in memory"
   ]
  },
  {
   "cell_type": "code",
   "execution_count": 28,
   "id": "05a8e39d",
   "metadata": {},
   "outputs": [],
   "source": [
    "A = np.arange(80)  #creates 1d array in our mentioned range\n"
   ]
  },
  {
   "cell_type": "code",
   "execution_count": 29,
   "id": "b0060fad",
   "metadata": {},
   "outputs": [
    {
     "data": {
      "text/plain": [
       "array([ 0,  1,  2,  3,  4,  5,  6,  7,  8,  9, 10, 11, 12, 13, 14, 15, 16,\n",
       "       17, 18, 19, 20, 21, 22, 23, 24, 25, 26, 27, 28, 29, 30, 31, 32, 33,\n",
       "       34, 35, 36, 37, 38, 39, 40, 41, 42, 43, 44, 45, 46, 47, 48, 49, 50,\n",
       "       51, 52, 53, 54, 55, 56, 57, 58, 59, 60, 61, 62, 63, 64, 65, 66, 67,\n",
       "       68, 69, 70, 71, 72, 73, 74, 75, 76, 77, 78, 79])"
      ]
     },
     "execution_count": 29,
     "metadata": {},
     "output_type": "execute_result"
    }
   ],
   "source": [
    "A"
   ]
  },
  {
   "cell_type": "code",
   "execution_count": 32,
   "id": "a9143db9",
   "metadata": {},
   "outputs": [],
   "source": [
    "K = np.arange(4,90)    #from 4 to 90"
   ]
  },
  {
   "cell_type": "code",
   "execution_count": 33,
   "id": "2d477755",
   "metadata": {},
   "outputs": [
    {
     "data": {
      "text/plain": [
       "array([ 4,  5,  6,  7,  8,  9, 10, 11, 12, 13, 14, 15, 16, 17, 18, 19, 20,\n",
       "       21, 22, 23, 24, 25, 26, 27, 28, 29, 30, 31, 32, 33, 34, 35, 36, 37,\n",
       "       38, 39, 40, 41, 42, 43, 44, 45, 46, 47, 48, 49, 50, 51, 52, 53, 54,\n",
       "       55, 56, 57, 58, 59, 60, 61, 62, 63, 64, 65, 66, 67, 68, 69, 70, 71,\n",
       "       72, 73, 74, 75, 76, 77, 78, 79, 80, 81, 82, 83, 84, 85, 86, 87, 88,\n",
       "       89])"
      ]
     },
     "execution_count": 33,
     "metadata": {},
     "output_type": "execute_result"
    }
   ],
   "source": [
    "K"
   ]
  },
  {
   "cell_type": "code",
   "execution_count": 34,
   "id": "1ec917b1",
   "metadata": {},
   "outputs": [
    {
     "name": "stdout",
     "output_type": "stream",
     "text": [
      "[ 4  6  8 10 12 14 16 18 20 22 24 26 28 30 32 34 36 38 40 42 44 46 48 50\n",
      " 52 54 56 58 60 62 64 66 68 70 72 74 76 78 80 82 84 86 88]\n"
     ]
    }
   ],
   "source": [
    "K = np.arange(4,90,2)  #2 steps\n",
    "print(K)"
   ]
  },
  {
   "cell_type": "code",
   "execution_count": 40,
   "id": "ee5e12aa",
   "metadata": {},
   "outputs": [
    {
     "name": "stdout",
     "output_type": "stream",
     "text": [
      "[0, 1, 2, 3, 4, 5, 6, 7, 8, 9]\n"
     ]
    }
   ],
   "source": [
    "print(list(range(10)))       #list of 10 range"
   ]
  },
  {
   "cell_type": "code",
   "execution_count": 48,
   "id": "281e0b67",
   "metadata": {},
   "outputs": [],
   "source": [
    "d = np.random.permutation(np.arange(10)) #shuffle number in random order"
   ]
  },
  {
   "cell_type": "code",
   "execution_count": 49,
   "id": "51d1606b",
   "metadata": {},
   "outputs": [
    {
     "data": {
      "text/plain": [
       "array([1, 8, 2, 5, 9, 0, 6, 4, 7, 3])"
      ]
     },
     "execution_count": 49,
     "metadata": {},
     "output_type": "execute_result"
    }
   ],
   "source": [
    "d"
   ]
  },
  {
   "cell_type": "code",
   "execution_count": 52,
   "id": "3e58a86e",
   "metadata": {},
   "outputs": [
    {
     "data": {
      "text/plain": [
       "38"
      ]
     },
     "execution_count": 52,
     "metadata": {},
     "output_type": "execute_result"
    }
   ],
   "source": [
    "np.random.randint(34,50) #return any random no.between 34 50"
   ]
  },
  {
   "cell_type": "markdown",
   "id": "d088cd83",
   "metadata": {},
   "source": [
    "point to be noted: if single elem in array is floating elem then all elem get converted to float"
   ]
  },
  {
   "cell_type": "code",
   "execution_count": 55,
   "id": "ab1b6025",
   "metadata": {},
   "outputs": [],
   "source": [
    "s = np.random.rand(2,3) #2 by 3 matrix "
   ]
  },
  {
   "cell_type": "code",
   "execution_count": 56,
   "id": "8863ac98",
   "metadata": {},
   "outputs": [
    {
     "data": {
      "text/plain": [
       "array([[0.45672202, 0.33922283, 0.13757445],\n",
       "       [0.56498751, 0.12237826, 0.97403411]])"
      ]
     },
     "execution_count": 56,
     "metadata": {},
     "output_type": "execute_result"
    }
   ],
   "source": [
    "s"
   ]
  },
  {
   "cell_type": "code",
   "execution_count": 64,
   "id": "2c00c93e",
   "metadata": {},
   "outputs": [],
   "source": [
    "d = np.random.rand(2,3,4,2)     #2 arrays of 3dim each 3 dim array has 3 2 dim arrays each 2 dim array has 4 1d arrays and each 1d array has 2ele in it  \n"
   ]
  },
  {
   "cell_type": "code",
   "execution_count": 70,
   "id": "15227a2e",
   "metadata": {},
   "outputs": [
    {
     "data": {
      "text/plain": [
       "array([[[[0.23910669, 0.96147908],\n",
       "         [0.28379101, 0.38136022],\n",
       "         [0.59010098, 0.96153362],\n",
       "         [0.9314991 , 0.65269996]],\n",
       "\n",
       "        [[0.3242805 , 0.35537928],\n",
       "         [0.29826567, 0.30962382],\n",
       "         [0.29668074, 0.28241892],\n",
       "         [0.97328464, 0.91891337]],\n",
       "\n",
       "        [[0.21270477, 0.14415603],\n",
       "         [0.60203173, 0.10237951],\n",
       "         [0.01518225, 0.21627054],\n",
       "         [0.19908404, 0.09075899]]],\n",
       "\n",
       "\n",
       "       [[[0.74244637, 0.48319697],\n",
       "         [0.67257646, 0.7282117 ],\n",
       "         [0.84209297, 0.62565261],\n",
       "         [0.40788365, 0.83176701]],\n",
       "\n",
       "        [[0.30111399, 0.78586381],\n",
       "         [0.51191204, 0.29167418],\n",
       "         [0.98718624, 0.43837864],\n",
       "         [0.85177298, 0.10778277]],\n",
       "\n",
       "        [[0.62466911, 0.00864826],\n",
       "         [0.44708368, 0.34374949],\n",
       "         [0.11809498, 0.27739569],\n",
       "         [0.32165537, 0.7367584 ]]]])"
      ]
     },
     "execution_count": 70,
     "metadata": {},
     "output_type": "execute_result"
    }
   ],
   "source": [
    "d\n",
    "#d.ndim"
   ]
  },
  {
   "cell_type": "code",
   "execution_count": 72,
   "id": "e02e1a25",
   "metadata": {},
   "outputs": [],
   "source": [
    "g = np.arange(60).reshape(4,15)"
   ]
  },
  {
   "cell_type": "code",
   "execution_count": 73,
   "id": "a11cd9d6",
   "metadata": {},
   "outputs": [
    {
     "data": {
      "text/plain": [
       "array([[ 0,  1,  2,  3,  4,  5,  6,  7,  8,  9, 10, 11, 12, 13, 14],\n",
       "       [15, 16, 17, 18, 19, 20, 21, 22, 23, 24, 25, 26, 27, 28, 29],\n",
       "       [30, 31, 32, 33, 34, 35, 36, 37, 38, 39, 40, 41, 42, 43, 44],\n",
       "       [45, 46, 47, 48, 49, 50, 51, 52, 53, 54, 55, 56, 57, 58, 59]])"
      ]
     },
     "execution_count": 73,
     "metadata": {},
     "output_type": "execute_result"
    }
   ],
   "source": [
    "g"
   ]
  },
  {
   "cell_type": "code",
   "execution_count": 74,
   "id": "6f5efb40",
   "metadata": {},
   "outputs": [
    {
     "data": {
      "text/plain": [
       "(4, 15)"
      ]
     },
     "execution_count": 74,
     "metadata": {},
     "output_type": "execute_result"
    }
   ],
   "source": [
    "g.shape"
   ]
  },
  {
   "cell_type": "code",
   "execution_count": 77,
   "id": "af304c7c",
   "metadata": {},
   "outputs": [
    {
     "data": {
      "text/plain": [
       "array([[0, 0, 0],\n",
       "       [0, 0, 0]])"
      ]
     },
     "execution_count": 77,
     "metadata": {},
     "output_type": "execute_result"
    }
   ],
   "source": [
    "np.zeros((2,3),dtype=int)"
   ]
  },
  {
   "cell_type": "markdown",
   "id": "dccaca47",
   "metadata": {},
   "source": [
    "inbuilt function for matrix multipliaction"
   ]
  },
  {
   "cell_type": "code",
   "execution_count": 27,
   "id": "627b5cc9",
   "metadata": {},
   "outputs": [
    {
     "data": {
      "text/plain": [
       "array([[0.44142391, 0.36367582, 0.44772515],\n",
       "       [0.27149471, 0.79887482, 0.53743679]])"
      ]
     },
     "execution_count": 27,
     "metadata": {},
     "output_type": "execute_result"
    }
   ],
   "source": [
    "s =np.random.rand(2,3)\n",
    "s"
   ]
  },
  {
   "cell_type": "code",
   "execution_count": 28,
   "id": "ee183fd0",
   "metadata": {},
   "outputs": [
    {
     "data": {
      "text/plain": [
       "array([0.55998823, 0.05537716, 0.20708606])"
      ]
     },
     "execution_count": 28,
     "metadata": {},
     "output_type": "execute_result"
    }
   ],
   "source": [
    "l =np.random.rand(3)\n",
    "l"
   ]
  },
  {
   "cell_type": "code",
   "execution_count": 29,
   "id": "5c1b3c1b",
   "metadata": {},
   "outputs": [
    {
     "data": {
      "text/plain": [
       "array([0.36004917, 0.30756893])"
      ]
     },
     "execution_count": 29,
     "metadata": {},
     "output_type": "execute_result"
    }
   ],
   "source": [
    "np.matmul(s,l)"
   ]
  },
  {
   "cell_type": "code",
   "execution_count": 30,
   "id": "c099da68",
   "metadata": {},
   "outputs": [
    {
     "data": {
      "text/plain": [
       "array([0.36004917, 0.30756893])"
      ]
     },
     "execution_count": 30,
     "metadata": {},
     "output_type": "execute_result"
    }
   ],
   "source": [
    "s @ l   #represents matrix multiplication in numpy"
   ]
  },
  {
   "cell_type": "markdown",
   "id": "9774d774",
   "metadata": {},
   "source": [
    "slicing"
   ]
  },
  {
   "cell_type": "markdown",
   "id": "eba9ef8a",
   "metadata": {},
   "source": [
    "slicing in numpy uses same memory of given array ..it doesent create copy but creates view...this is big diff in ordinary list or data structure and numpy array"
   ]
  },
  {
   "cell_type": "code",
   "execution_count": 102,
   "id": "494e5e00",
   "metadata": {},
   "outputs": [],
   "source": [
    "A = np.random.rand(5)"
   ]
  },
  {
   "cell_type": "code",
   "execution_count": 103,
   "id": "fc6879bd",
   "metadata": {},
   "outputs": [
    {
     "data": {
      "text/plain": [
       "array([0.28562512, 0.74366759, 0.2884532 , 0.97988879, 0.89708186])"
      ]
     },
     "execution_count": 103,
     "metadata": {},
     "output_type": "execute_result"
    }
   ],
   "source": [
    "A"
   ]
  },
  {
   "cell_type": "code",
   "execution_count": 104,
   "id": "08779d5f",
   "metadata": {},
   "outputs": [],
   "source": [
    "B = A[2:5]"
   ]
  },
  {
   "cell_type": "code",
   "execution_count": 105,
   "id": "6a9e3f89",
   "metadata": {},
   "outputs": [
    {
     "data": {
      "text/plain": [
       "array([0.2884532 , 0.97988879, 0.89708186])"
      ]
     },
     "execution_count": 105,
     "metadata": {},
     "output_type": "execute_result"
    }
   ],
   "source": [
    "B"
   ]
  },
  {
   "cell_type": "code",
   "execution_count": 106,
   "id": "d125c9a0",
   "metadata": {},
   "outputs": [],
   "source": [
    "B[0]=  67"
   ]
  },
  {
   "cell_type": "code",
   "execution_count": 107,
   "id": "35387124",
   "metadata": {},
   "outputs": [
    {
     "data": {
      "text/plain": [
       "array([67.        ,  0.97988879,  0.89708186])"
      ]
     },
     "execution_count": 107,
     "metadata": {},
     "output_type": "execute_result"
    }
   ],
   "source": [
    "B"
   ]
  },
  {
   "cell_type": "code",
   "execution_count": 109,
   "id": "1e6e8f15",
   "metadata": {},
   "outputs": [
    {
     "data": {
      "text/plain": [
       "array([ 0.28562512,  0.74366759, 67.        ,  0.97988879,  0.89708186])"
      ]
     },
     "execution_count": 109,
     "metadata": {},
     "output_type": "execute_result"
    }
   ],
   "source": [
    "A      #value also added in A also    "
   ]
  },
  {
   "cell_type": "code",
   "execution_count": 114,
   "id": "4b26bd76",
   "metadata": {},
   "outputs": [],
   "source": [
    "A = np.random.rand(5,4)"
   ]
  },
  {
   "cell_type": "code",
   "execution_count": 115,
   "id": "a279cb22",
   "metadata": {},
   "outputs": [
    {
     "data": {
      "text/plain": [
       "array([[0.83525348, 0.02845568, 0.17935444, 0.13702089],\n",
       "       [0.54541789, 0.76303312, 0.51644767, 0.42883175],\n",
       "       [0.96883013, 0.89098209, 0.35785966, 0.2527409 ],\n",
       "       [0.49472756, 0.15355181, 0.82844038, 0.0985133 ],\n",
       "       [0.24198039, 0.72477029, 0.58601535, 0.12932408]])"
      ]
     },
     "execution_count": 115,
     "metadata": {},
     "output_type": "execute_result"
    }
   ],
   "source": [
    "A"
   ]
  },
  {
   "cell_type": "code",
   "execution_count": null,
   "id": "86f07b06",
   "metadata": {},
   "outputs": [],
   "source": []
  },
  {
   "cell_type": "code",
   "execution_count": 116,
   "id": "cd13ac9a",
   "metadata": {},
   "outputs": [],
   "source": [
    "D = A[2:4]"
   ]
  },
  {
   "cell_type": "code",
   "execution_count": 117,
   "id": "26003f4a",
   "metadata": {},
   "outputs": [
    {
     "data": {
      "text/plain": [
       "array([[0.96883013, 0.89098209, 0.35785966, 0.2527409 ],\n",
       "       [0.49472756, 0.15355181, 0.82844038, 0.0985133 ]])"
      ]
     },
     "execution_count": 117,
     "metadata": {},
     "output_type": "execute_result"
    }
   ],
   "source": [
    "D"
   ]
  },
  {
   "cell_type": "code",
   "execution_count": 118,
   "id": "20458c88",
   "metadata": {},
   "outputs": [],
   "source": [
    "#if we dont want view then create copy b = A[3:10].copy()"
   ]
  },
  {
   "cell_type": "code",
   "execution_count": 5,
   "id": "e1ba0a46",
   "metadata": {},
   "outputs": [
    {
     "data": {
      "text/plain": [
       "array([ 0,  1,  2,  3,  4,  5,  6,  7,  8,  9, 10, 11, 12, 13, 14, 15, 16,\n",
       "       17, 18, 19, 20, 21, 22, 23, 24, 25, 26, 27, 28, 29])"
      ]
     },
     "execution_count": 5,
     "metadata": {},
     "output_type": "execute_result"
    }
   ],
   "source": [
    "#index of any element\n",
    "S = np.arange(30)\n",
    "S"
   ]
  },
  {
   "cell_type": "code",
   "execution_count": 10,
   "id": "49288d1f",
   "metadata": {},
   "outputs": [],
   "source": [
    "index = np.argwhere(S==17)  #where is elem 17   #if 2d array is there then add [0][0] in front of(s==17)"
   ]
  },
  {
   "cell_type": "code",
   "execution_count": 11,
   "id": "7a213658",
   "metadata": {},
   "outputs": [
    {
     "data": {
      "text/plain": [
       "array([[17]], dtype=int64)"
      ]
     },
     "execution_count": 11,
     "metadata": {},
     "output_type": "execute_result"
    }
   ],
   "source": [
    "index"
   ]
  },
  {
   "cell_type": "code",
   "execution_count": 22,
   "id": "13edba39",
   "metadata": {},
   "outputs": [],
   "source": [
    "S = np.round(10*np.random.rand(5,6))   #scales values upto 10 and randomly arrange them and rounds values to int"
   ]
  },
  {
   "cell_type": "code",
   "execution_count": 23,
   "id": "df8b6558",
   "metadata": {},
   "outputs": [
    {
     "data": {
      "text/plain": [
       "array([[9., 8., 9., 1., 1., 1.],\n",
       "       [9., 7., 3., 9., 5., 2.],\n",
       "       [5., 1., 0., 5., 1., 6.],\n",
       "       [6., 0., 2., 7., 2., 3.],\n",
       "       [4., 5., 7., 1., 9., 5.]])"
      ]
     },
     "execution_count": 23,
     "metadata": {},
     "output_type": "execute_result"
    }
   ],
   "source": [
    "S"
   ]
  },
  {
   "cell_type": "code",
   "execution_count": 25,
   "id": "a41e368c",
   "metadata": {},
   "outputs": [
    {
     "data": {
      "text/plain": [
       "5.0"
      ]
     },
     "execution_count": 25,
     "metadata": {},
     "output_type": "execute_result"
    }
   ],
   "source": [
    "#access\n",
    "S[4,1]"
   ]
  },
  {
   "cell_type": "code",
   "execution_count": 26,
   "id": "bbc05c1a",
   "metadata": {},
   "outputs": [
    {
     "data": {
      "text/plain": [
       "array([9., 7., 3., 9., 5., 2.])"
      ]
     },
     "execution_count": 26,
     "metadata": {},
     "output_type": "execute_result"
    }
   ],
   "source": [
    "S[1,:]  #all whole row"
   ]
  },
  {
   "cell_type": "code",
   "execution_count": 27,
   "id": "5a6390aa",
   "metadata": {},
   "outputs": [
    {
     "data": {
      "text/plain": [
       "array([8., 7., 1., 0., 5.])"
      ]
     },
     "execution_count": 27,
     "metadata": {},
     "output_type": "execute_result"
    }
   ],
   "source": [
    "S[:,1]    #all whole colm"
   ]
  },
  {
   "cell_type": "code",
   "execution_count": 32,
   "id": "c5089c28",
   "metadata": {},
   "outputs": [
    {
     "data": {
      "text/plain": [
       "array([[9., 5.],\n",
       "       [5., 1.]])"
      ]
     },
     "execution_count": 32,
     "metadata": {},
     "output_type": "execute_result"
    }
   ],
   "source": [
    "S[1:3,3:5]  #consider 1:3 rows(excluded) and 3:5(excluded)colm for submatrix"
   ]
  },
  {
   "cell_type": "code",
   "execution_count": 33,
   "id": "b376fcab",
   "metadata": {},
   "outputs": [
    {
     "data": {
      "text/plain": [
       "array([[9., 9., 5., 6., 4.],\n",
       "       [8., 7., 1., 0., 5.],\n",
       "       [9., 3., 0., 2., 7.],\n",
       "       [1., 9., 5., 7., 1.],\n",
       "       [1., 5., 1., 2., 9.],\n",
       "       [1., 2., 6., 3., 5.]])"
      ]
     },
     "execution_count": 33,
     "metadata": {},
     "output_type": "execute_result"
    }
   ],
   "source": [
    "S.T   #transpose"
   ]
  },
  {
   "cell_type": "markdown",
   "id": "b969d6fc",
   "metadata": {},
   "source": [
    "library for linear library"
   ]
  },
  {
   "cell_type": "code",
   "execution_count": 34,
   "id": "11105586",
   "metadata": {},
   "outputs": [],
   "source": [
    "import numpy.linalg as la"
   ]
  },
  {
   "cell_type": "code",
   "execution_count": 37,
   "id": "4c99bdeb",
   "metadata": {},
   "outputs": [
    {
     "data": {
      "text/plain": [
       "array([[  2.0752672 ,  10.54756446, -10.0841629 ],\n",
       "       [ -1.55754163,  -3.55929136,   5.07454525],\n",
       "       [  0.90196621,  -4.39645471,   3.17373847]])"
      ]
     },
     "execution_count": 37,
     "metadata": {},
     "output_type": "execute_result"
    }
   ],
   "source": [
    "la.inv(np.random.rand(3,3))    #inverse of matrix"
   ]
  },
  {
   "cell_type": "code",
   "execution_count": 38,
   "id": "3b088c32",
   "metadata": {},
   "outputs": [],
   "source": [
    "S.sort(axis=0)   #sorted colm"
   ]
  },
  {
   "cell_type": "code",
   "execution_count": 39,
   "id": "1879ce9f",
   "metadata": {},
   "outputs": [
    {
     "data": {
      "text/plain": [
       "array([[4., 0., 0., 1., 1., 1.],\n",
       "       [5., 1., 2., 1., 1., 2.],\n",
       "       [6., 5., 3., 5., 2., 3.],\n",
       "       [9., 7., 7., 7., 5., 5.],\n",
       "       [9., 8., 9., 9., 9., 6.]])"
      ]
     },
     "execution_count": 39,
     "metadata": {},
     "output_type": "execute_result"
    }
   ],
   "source": [
    "S"
   ]
  },
  {
   "cell_type": "code",
   "execution_count": 40,
   "id": "4b868e9d",
   "metadata": {},
   "outputs": [],
   "source": [
    "S.sort(axis=1) #sorted rows"
   ]
  },
  {
   "cell_type": "code",
   "execution_count": 41,
   "id": "ffb07688",
   "metadata": {},
   "outputs": [
    {
     "data": {
      "text/plain": [
       "array([[0., 0., 1., 1., 1., 4.],\n",
       "       [1., 1., 1., 2., 2., 5.],\n",
       "       [2., 3., 3., 5., 5., 6.],\n",
       "       [5., 5., 7., 7., 7., 9.],\n",
       "       [6., 8., 9., 9., 9., 9.]])"
      ]
     },
     "execution_count": 41,
     "metadata": {},
     "output_type": "execute_result"
    }
   ],
   "source": [
    "S"
   ]
  },
  {
   "cell_type": "markdown",
   "id": "e46ee78c",
   "metadata": {},
   "source": [
    "numpy more indexing"
   ]
  },
  {
   "cell_type": "code",
   "execution_count": 42,
   "id": "e49a876f",
   "metadata": {},
   "outputs": [
    {
     "data": {
      "text/plain": [
       "2.0"
      ]
     },
     "execution_count": 42,
     "metadata": {},
     "output_type": "execute_result"
    }
   ],
   "source": [
    "S[1,3]"
   ]
  },
  {
   "cell_type": "code",
   "execution_count": 43,
   "id": "0a78d962",
   "metadata": {},
   "outputs": [],
   "source": [
    "F = np.arange(20)"
   ]
  },
  {
   "cell_type": "code",
   "execution_count": 44,
   "id": "0b243e50",
   "metadata": {},
   "outputs": [
    {
     "data": {
      "text/plain": [
       "array([ 0,  1,  2,  3,  4,  5,  6,  7,  8,  9, 10, 11, 12, 13, 14, 15, 16,\n",
       "       17, 18, 19])"
      ]
     },
     "execution_count": 44,
     "metadata": {},
     "output_type": "execute_result"
    }
   ],
   "source": [
    "F"
   ]
  },
  {
   "cell_type": "code",
   "execution_count": 51,
   "id": "9bc64ba5",
   "metadata": {},
   "outputs": [],
   "source": [
    "R = F[F>10]"
   ]
  },
  {
   "cell_type": "code",
   "execution_count": 52,
   "id": "1b6a9e13",
   "metadata": {},
   "outputs": [
    {
     "data": {
      "text/plain": [
       "array([11, 12, 13, 14, 15, 16, 17, 18, 19])"
      ]
     },
     "execution_count": 52,
     "metadata": {},
     "output_type": "execute_result"
    }
   ],
   "source": [
    "R"
   ]
  },
  {
   "cell_type": "code",
   "execution_count": 53,
   "id": "87f59e5f",
   "metadata": {},
   "outputs": [
    {
     "data": {
      "text/plain": [
       "array([ 0,  1,  2,  3,  4,  5,  6,  7,  8,  9, 10, 11, 12, 13, 14, 15, 16,\n",
       "       17, 18, 19])"
      ]
     },
     "execution_count": 53,
     "metadata": {},
     "output_type": "execute_result"
    }
   ],
   "source": [
    "F"
   ]
  },
  {
   "cell_type": "code",
   "execution_count": 57,
   "id": "7e168183",
   "metadata": {},
   "outputs": [],
   "source": [
    "R = F[(F<20) & (F>10)]"
   ]
  },
  {
   "cell_type": "code",
   "execution_count": 58,
   "id": "56fa1b93",
   "metadata": {},
   "outputs": [
    {
     "data": {
      "text/plain": [
       "array([11, 12, 13, 14, 15, 16, 17, 18, 19])"
      ]
     },
     "execution_count": 58,
     "metadata": {},
     "output_type": "execute_result"
    }
   ],
   "source": [
    "R"
   ]
  },
  {
   "cell_type": "code",
   "execution_count": 59,
   "id": "daaa000e",
   "metadata": {},
   "outputs": [],
   "source": [
    "#  & is used for arrays, and is used for single object  \n",
    "# | for arrays ,or for single object\n",
    "# ~ for arrays ,not for single object"
   ]
  },
  {
   "cell_type": "markdown",
   "id": "11a6a112",
   "metadata": {},
   "source": [
    "masking"
   ]
  },
  {
   "cell_type": "code",
   "execution_count": 15,
   "id": "33da50ea",
   "metadata": {},
   "outputs": [
    {
     "data": {
      "text/plain": [
       "array([[ 1.,  2.,  3.],\n",
       "       [ 2., 10.,  7.]])"
      ]
     },
     "execution_count": 15,
     "metadata": {},
     "output_type": "execute_result"
    }
   ],
   "source": [
    "#broadcasting:  this will match the other elem to match dimension of matrix to add matrix of same dim\n",
    "Matrix = np.round(10*np.random.rand(2,3))\n",
    "Matrix"
   ]
  },
  {
   "cell_type": "code",
   "execution_count": 22,
   "id": "1033fe6e",
   "metadata": {},
   "outputs": [
    {
     "data": {
      "text/plain": [
       "array([[ 7.,  8.,  9.],\n",
       "       [ 8., 16., 13.]])"
      ]
     },
     "execution_count": 22,
     "metadata": {},
     "output_type": "execute_result"
    }
   ],
   "source": [
    "Matrix+6        #this is mapping as it has created 3 by 2 matrix of 6 ele in it"
   ]
  },
  {
   "cell_type": "code",
   "execution_count": 23,
   "id": "e41786b9",
   "metadata": {},
   "outputs": [
    {
     "data": {
      "text/plain": [
       "array([[ 1.,  2.,  3.],\n",
       "       [ 3., 11.,  8.]])"
      ]
     },
     "execution_count": 23,
     "metadata": {},
     "output_type": "execute_result"
    }
   ],
   "source": [
    "Matrix+(np.arange(2).reshape(2,1))"
   ]
  },
  {
   "cell_type": "code",
   "execution_count": 30,
   "id": "1f8af493",
   "metadata": {},
   "outputs": [
    {
     "data": {
      "text/plain": [
       "array([[3., 0., 5., 0.],\n",
       "       [0., 1., 0., 0.],\n",
       "       [5., 4., 4., 3.]])"
      ]
     },
     "execution_count": 30,
     "metadata": {},
     "output_type": "execute_result"
    }
   ],
   "source": [
    "#universal functions\n",
    "#conatenate arrays horrizontally\n",
    "A = np.round(5*np.random.rand(3,4))\n",
    "A\n"
   ]
  },
  {
   "cell_type": "code",
   "execution_count": 29,
   "id": "8681edc4",
   "metadata": {},
   "outputs": [
    {
     "data": {
      "text/plain": [
       "array([[1., 3., 4., 1.],\n",
       "       [1., 4., 3., 4.],\n",
       "       [0., 0., 1., 1.]])"
      ]
     },
     "execution_count": 29,
     "metadata": {},
     "output_type": "execute_result"
    }
   ],
   "source": [
    "B = np.round(5*np.random.rand(3,4))\n",
    "B"
   ]
  },
  {
   "cell_type": "code",
   "execution_count": 34,
   "id": "3b2d0a3e",
   "metadata": {},
   "outputs": [
    {
     "data": {
      "text/plain": [
       "array([[3., 0., 5., 0., 1., 3., 4., 1.],\n",
       "       [0., 1., 0., 0., 1., 4., 3., 4.],\n",
       "       [5., 4., 4., 3., 0., 0., 1., 1.]])"
      ]
     },
     "execution_count": 34,
     "metadata": {},
     "output_type": "execute_result"
    }
   ],
   "source": [
    "C = np.hstack((A,B)) #if hosrizontal conact then all  arrays should be in tuple\n",
    "C"
   ]
  },
  {
   "cell_type": "code",
   "execution_count": 35,
   "id": "b88d7621",
   "metadata": {},
   "outputs": [
    {
     "data": {
      "text/plain": [
       "array([[3., 0., 5., 0.],\n",
       "       [0., 1., 0., 0.],\n",
       "       [5., 4., 4., 3.],\n",
       "       [1., 3., 4., 1.],\n",
       "       [1., 4., 3., 4.],\n",
       "       [0., 0., 1., 1.]])"
      ]
     },
     "execution_count": 35,
     "metadata": {},
     "output_type": "execute_result"
    }
   ],
   "source": [
    "C = np.vstack((A,B)) \n",
    "C"
   ]
  },
  {
   "cell_type": "code",
   "execution_count": 42,
   "id": "d532f6af",
   "metadata": {},
   "outputs": [
    {
     "data": {
      "text/plain": [
       "array([[0., 0., 0., 1.],\n",
       "       [0., 0., 1., 1.],\n",
       "       [0., 0., 3., 4.],\n",
       "       [1., 1., 3., 4.],\n",
       "       [1., 3., 4., 5.],\n",
       "       [3., 4., 4., 5.]])"
      ]
     },
     "execution_count": 42,
     "metadata": {},
     "output_type": "execute_result"
    }
   ],
   "source": [
    "C.sort(axis=1)\n",
    "C"
   ]
  },
  {
   "cell_type": "code",
   "execution_count": 44,
   "id": "5239439e",
   "metadata": {},
   "outputs": [
    {
     "data": {
      "text/plain": [
       "array([ 1,  2,  4, 56,  7])"
      ]
     },
     "execution_count": 44,
     "metadata": {},
     "output_type": "execute_result"
    }
   ],
   "source": [
    "D = np.array([1,2,4,56,7])\n",
    "D"
   ]
  },
  {
   "cell_type": "code",
   "execution_count": 45,
   "id": "e209e20a",
   "metadata": {},
   "outputs": [
    {
     "data": {
      "text/plain": [
       "array([ 1,  2,  4,  7, 56])"
      ]
     },
     "execution_count": 45,
     "metadata": {},
     "output_type": "execute_result"
    }
   ],
   "source": [
    "np.sort(D)"
   ]
  },
  {
   "cell_type": "markdown",
   "id": "ce59cd70",
   "metadata": {},
   "source": [
    "how numpy is fast"
   ]
  },
  {
   "cell_type": "code",
   "execution_count": 52,
   "id": "c76ce1c1",
   "metadata": {},
   "outputs": [
    {
     "name": "stdout",
     "output_type": "stream",
     "text": [
      "13.7 ms ± 2.06 ms per loop (mean ± std. dev. of 7 runs, 100 loops each)\n",
      "40.4 µs ± 418 ns per loop (mean ± std. dev. of 7 runs, 10,000 loops each)\n"
     ]
    }
   ],
   "source": [
    "V = np.random.rand(100000)\n",
    "%timeit sum(V)     #under python by default function\n",
    "%timeit np.sum(V)   #under numpy    this is faaster than sum function\n"
   ]
  },
  {
   "cell_type": "code",
   "execution_count": null,
   "id": "41f1d31e",
   "metadata": {},
   "outputs": [],
   "source": []
  }
 ],
 "metadata": {
  "kernelspec": {
   "display_name": "Python 3 (ipykernel)",
   "language": "python",
   "name": "python3"
  },
  "language_info": {
   "codemirror_mode": {
    "name": "ipython",
    "version": 3
   },
   "file_extension": ".py",
   "mimetype": "text/x-python",
   "name": "python",
   "nbconvert_exporter": "python",
   "pygments_lexer": "ipython3",
   "version": "3.11.5"
  }
 },
 "nbformat": 4,
 "nbformat_minor": 5
}
